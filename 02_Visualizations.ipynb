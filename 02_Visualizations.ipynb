{
  "nbformat": 4,
  "nbformat_minor": 0,
  "metadata": {
    "colab": {
      "provenance": [],
      "authorship_tag": "ABX9TyMuloAnh0FUhg+ivW726XN7",
      "include_colab_link": true
    },
    "kernelspec": {
      "name": "python3",
      "display_name": "Python 3"
    },
    "language_info": {
      "name": "python"
    }
  },
  "cells": [
    {
      "cell_type": "markdown",
      "metadata": {
        "id": "view-in-github",
        "colab_type": "text"
      },
      "source": [
        "<a href=\"https://colab.research.google.com/github/giakomorssi/DataViz/blob/main/02_Visualizations.ipynb\" target=\"_parent\"><img src=\"https://colab.research.google.com/assets/colab-badge.svg\" alt=\"Open In Colab\"/></a>"
      ]
    },
    {
      "cell_type": "markdown",
      "source": [
        "# Import and Clean the Data"
      ],
      "metadata": {
        "id": "8_X0YzAPsdx9"
      }
    },
    {
      "cell_type": "code",
      "execution_count": null,
      "metadata": {
        "id": "W8XKb52ksU3o"
      },
      "outputs": [],
      "source": [
        "from google.colab import drive\n",
        "drive.mount('/content/drive')"
      ]
    },
    {
      "cell_type": "code",
      "source": [
        "import pandas as pd\n",
        "\n",
        "df = pd.read_excel('/content/drive/MyDrive/University/DataViz/tweet.xlsx')"
      ],
      "metadata": {
        "id": "rS24kKiIsaTZ"
      },
      "execution_count": null,
      "outputs": []
    },
    {
      "cell_type": "code",
      "source": [
        "from sklearn.preprocessing import LabelEncoder\n",
        "\n",
        "le = LabelEncoder()\n",
        "\n",
        "df['verified'] = le.fit_transform(df['verified'])"
      ],
      "metadata": {
        "id": "iF6RwdQ_scNz"
      },
      "execution_count": null,
      "outputs": []
    },
    {
      "cell_type": "markdown",
      "source": [
        "# Static Visualizations"
      ],
      "metadata": {
        "id": "vU8NG33Bsg0e"
      }
    },
    {
      "cell_type": "code",
      "source": [
        "import pandas as pd\n",
        "import matplotlib.pyplot as plt\n",
        "\n",
        "#Create a scatter plot of user followers vs retweet count\n",
        "plt.scatter(df['user_followers'], df['retweet_count'], alpha=0.8, color='purple', edgecolors='white')\n",
        "\n",
        "#Set the title and axis labels\n",
        "plt.title('User Followers vs Retweet Count', fontsize=18, fontweight='bold')\n",
        "plt.xlabel('User Followers', fontsize=14)\n",
        "plt.ylabel('Retweet Count', fontsize=14)\n",
        "\n",
        "#Set the x-axis to use a logarithmic scale for better visualization\n",
        "plt.xscale('log')\n",
        "\n",
        "#Add grid lines\n",
        "plt.grid(linestyle='--', linewidth=0.5)\n",
        "\n",
        "#Set the figure size\n",
        "plt.figure(figsize=(8,6))\n",
        "\n",
        "#Show the plot\n",
        "plt.show()"
      ],
      "metadata": {
        "id": "IgFoA9FYsjl9"
      },
      "execution_count": null,
      "outputs": []
    },
    {
      "cell_type": "code",
      "source": [
        "import matplotlib.pyplot as plt\n",
        "import seaborn as sns\n",
        "\n",
        "df = pd.read_excel('/content/drive/MyDrive/University/DataViz/tweet.xlsx')\n",
        "\n",
        "tweet_lengths = df['tweet_text'].str.len()\n",
        "\n",
        "sns.set_style(\"darkgrid\")\n",
        "\n",
        "# create figure and axes\n",
        "fig, ax = plt.subplots(figsize=(10, 6))\n",
        "\n",
        "# create histogram in the background\n",
        "mean_length = sum(tweet_lengths) / len(tweet_lengths)\n",
        "ax.axvline(mean_length, color='red', linestyle='--', label=f'Mean length: {mean_length:.2f}')\n",
        "\n",
        "# create main histogram\n",
        "sns.histplot(data=df, x=tweet_lengths, bins=50, kde=True, ax=ax)\n",
        "\n",
        "# set labels and title\n",
        "ax.set_xlabel('Tweet length')\n",
        "ax.set_ylabel('Frequency')\n",
        "ax.set_title('Histogram of tweet lengths')\n",
        "\n",
        "# add legend\n",
        "ax.legend()\n",
        "\n",
        "# show plot\n",
        "plt.show()"
      ],
      "metadata": {
        "id": "6DtVJd_9soxf"
      },
      "execution_count": null,
      "outputs": []
    },
    {
      "cell_type": "markdown",
      "source": [
        "# Dynamic Visualizations"
      ],
      "metadata": {
        "id": "8JQi069Us4_P"
      }
    },
    {
      "cell_type": "code",
      "source": [
        "import plotly.express as px\n",
        "\n",
        "df = pd.read_excel('/content/drive/MyDrive/University/DataViz/tweet.xlsx')\n",
        "\n",
        "# Get the top ten tweet sources\n",
        "top_tweet_sources = df['tweet_source'].value_counts().head(10).index.tolist()\n",
        "\n",
        "# Filter the dataframe to include only the top ten tweet sources\n",
        "df_top_tweet_sources = df[df['tweet_source'].isin(top_tweet_sources)]\n",
        "\n",
        "# Create the horizontal stacked bar chart\n",
        "fig = px.bar(df_top_tweet_sources, y='query', color='tweet_source', barmode='stack', title='Tweet Sources by Query')\n",
        "\n",
        "# Set the axis labels\n",
        "fig.update_layout(xaxis_title='Count', yaxis_title='Query')\n",
        "\n",
        "# Show the plot\n",
        "fig.show()"
      ],
      "metadata": {
        "id": "OpUGV5xEs54_"
      },
      "execution_count": null,
      "outputs": []
    },
    {
      "cell_type": "code",
      "source": [
        "import re\n",
        "import pandas as pd\n",
        "import plotly.express as px\n",
        "\n",
        "# Prompt the user to enter the search term\n",
        "search_term = input('Enter the search term: ')\n",
        "\n",
        "# Define the regular expression pattern for categories\n",
        "pattern = r'\\b{}\\w+'.format(search_term)\n",
        "\n",
        "#pattern = r'#\\w+'\n",
        "\n",
        "# Define a function to extract the categories from the tweet text\n",
        "def extract_categories(text):\n",
        "    return re.findall(pattern, text)\n",
        "\n",
        "# Extract the categories for each tweet and count their frequency\n",
        "data = pd.DataFrame(data)\n",
        "data['categories'] = data['tweet_text'].apply(extract_categories)\n",
        "category_counts = data['categories'].apply(pd.Series).stack().value_counts()\n",
        "\n",
        "# Keep only the top 10 categories\n",
        "category_counts = category_counts.head(10)\n",
        "\n",
        "# Convert the data to a dataframe for plotting in Plotly\n",
        "df = pd.DataFrame({'Categories': category_counts.index, 'Frequency': category_counts.values})\n",
        "\n",
        "# Add percentage to the hover information\n",
        "df['Percentage'] = round(df['Frequency'] / df['Frequency'].sum() * 100, 2)\n",
        "hover_template = 'Category: %{label}<br>Frequency: %{value}<br>Percentage: %{customdata}'\n",
        "\n",
        "# Create a treemap using Plotly\n",
        "fig = px.treemap(df, path=['Categories'], values='Frequency', title='Category Distribution in Tweet Text', hover_data=['Percentage'])\n",
        "fig.update_traces(hovertemplate=hover_template)\n",
        "\n",
        "# Show the chart\n",
        "fig.show()"
      ],
      "metadata": {
        "id": "yijKzgt6s7j-"
      },
      "execution_count": null,
      "outputs": []
    }
  ]
}