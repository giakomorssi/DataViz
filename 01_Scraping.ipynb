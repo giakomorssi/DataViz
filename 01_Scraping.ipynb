{
  "nbformat": 4,
  "nbformat_minor": 0,
  "metadata": {
    "colab": {
      "provenance": [],
      "authorship_tag": "ABX9TyPRXmNKjRvijU2T1p3CP1mN",
      "include_colab_link": true
    },
    "kernelspec": {
      "name": "python3",
      "display_name": "Python 3"
    },
    "language_info": {
      "name": "python"
    }
  },
  "cells": [
    {
      "cell_type": "markdown",
      "metadata": {
        "id": "view-in-github",
        "colab_type": "text"
      },
      "source": [
        "<a href=\"https://colab.research.google.com/github/giakomorssi/DataViz/blob/main/01_Scraping.ipynb\" target=\"_parent\"><img src=\"https://colab.research.google.com/assets/colab-badge.svg\" alt=\"Open In Colab\"/></a>"
      ]
    },
    {
      "cell_type": "markdown",
      "source": [
        "# API Keys"
      ],
      "metadata": {
        "id": "gHWVCpl2rt6o"
      }
    },
    {
      "cell_type": "code",
      "source": [
        "from google.colab import drive\n",
        "drive.mount('/content/drive')"
      ],
      "metadata": {
        "id": "5gDIGuXntpVR"
      },
      "execution_count": null,
      "outputs": []
    },
    {
      "cell_type": "code",
      "source": [
        "import tweepy\n",
        "import datetime\n",
        "import pandas as pd\n",
        "\n",
        "pd.set_option('display.max_columns', None)\n",
        "\n",
        "# Authenticate API credentials\n",
        "consumer_key = 'g4RKOI1JXtfsZXu2CSFKvT2a2'\n",
        "consumer_secret = 'MdE7IHrYPaEpvHsaUnzHK3cDtgCY3A7DQhZR9qsVxjYq7sz8IP'\n",
        "bearer = 'AAAAAAAAAAAAAAAAAAAAAAMmmQEAAAAA%2B%2FF01INs8DBbqWNjKhasGLQvhSQ%3DtVtvDKgNxqJWB8k61fWDjD0MoTXlNZElE8BfLSb1x0BsVKO4hz'\n",
        "access_token = '1072469075140505601-sFxzRvrC1hXbWZ16oreyyKU58s6bRu'\n",
        "access_token_secret = 'XXZFVGZwC7eDrBWmy0cFUUTj2SuRa0Z2C3orNvvpEs1jO'\n",
        "\n",
        "auth = tweepy.OAuthHandler(consumer_key, consumer_secret)\n",
        "auth.set_access_token(access_token, access_token_secret)\n",
        "\n",
        "# Initialize API\n",
        "twitter = tweepy.API(auth)"
      ],
      "metadata": {
        "id": "7rWrD5zwrw0N"
      },
      "execution_count": null,
      "outputs": []
    },
    {
      "cell_type": "markdown",
      "source": [
        "# Scraping"
      ],
      "metadata": {
        "id": "D3hVEPQsrttI"
      }
    },
    {
      "cell_type": "code",
      "execution_count": null,
      "metadata": {
        "id": "mHi3qQ24rpcx"
      },
      "outputs": [],
      "source": [
        "max_tweets = 1000\n",
        "tweets_per_request = 100\n",
        "tweets = []"
      ]
    },
    {
      "cell_type": "code",
      "source": [
        "# Define search query\n",
        "query = 'visualization'\n",
        "\n",
        "for i in range(int(max_tweets / tweets_per_request)):\n",
        "    if i == 0:\n",
        "        results = twitter.search_tweets(q=query, lang='en', count=tweets_per_request, tweet_mode='extended')\n",
        "    else:\n",
        "        results = twitter.search_tweets(q=query, lang='en', count=tweets_per_request, max_id=oldest_id - 1, tweet_mode='extended')\n",
        "    \n",
        "    if not results:\n",
        "        break\n",
        "\n",
        "    tweets.extend(results)\n",
        "    oldest_id = results[-1].id\n",
        "\n",
        "data = []\n",
        "\n",
        "# Extract tweet data and append to list\n",
        "for tweet in tweets:\n",
        "    if hasattr(tweet, 'retweeted_status'):\n",
        "        text = tweet.retweeted_status.full_text\n",
        "    else:\n",
        "        text = tweet.full_text\n",
        "    tweet_data = {\n",
        "        'user_name': tweet.user.name,\n",
        "        'tweet_text': text,\n",
        "        'user_followers': tweet.user.followers_count,\n",
        "        'user_friends': tweet.user.friends_count,\n",
        "        'user_statuses': tweet.user.statuses_count,\n",
        "        'user_listed': tweet.user.listed_count,\n",
        "        'user_location': tweet.user.location,\n",
        "        'user_description': tweet.user.description,\n",
        "        'tweet_date': tweet.created_at.date(),\n",
        "        'time_time': tweet.created_at.time(), \n",
        "        'retweet_count': tweet.retweet_count,\n",
        "        'tweet_source': tweet.source, \n",
        "        'verified': tweet.user.verified\n",
        "    }\n",
        "    data.append(tweet_data)\n",
        "\n",
        "# Create a DataFrame from the tweet data\n",
        "df = pd.DataFrame(data)\n",
        "\n",
        "# create column with the query\n",
        "\n",
        "df['query'] = query"
      ],
      "metadata": {
        "id": "YwA1uWvGr4UH"
      },
      "execution_count": null,
      "outputs": []
    },
    {
      "cell_type": "code",
      "source": [
        "# Define search query\n",
        "query1 = 'powerbi'\n",
        "\n",
        "tweets = []\n",
        "\n",
        "for i in range(int(max_tweets / tweets_per_request)):\n",
        "    if i == 0:\n",
        "        results = twitter.search_tweets(q=query1, lang='en', count=tweets_per_request, tweet_mode='extended')\n",
        "    else:\n",
        "        results = twitter.search_tweets(q=query1, lang='en', count=tweets_per_request, max_id=oldest_id - 1, tweet_mode='extended')\n",
        "    \n",
        "    if not results:\n",
        "        break\n",
        "\n",
        "    tweets.extend(results)\n",
        "    oldest_id = results[-1].id\n",
        "\n",
        "data = []\n",
        "\n",
        "# Extract tweet data and append to list\n",
        "for tweet in tweets:\n",
        "    if hasattr(tweet, 'retweeted_status'):\n",
        "        text = tweet.retweeted_status.full_text\n",
        "    else:\n",
        "        text = tweet.full_text\n",
        "    tweet_data = {\n",
        "        'user_name': tweet.user.name,\n",
        "        'tweet_text': text,\n",
        "        'user_followers': tweet.user.followers_count,\n",
        "        'user_friends': tweet.user.friends_count,\n",
        "        'user_statuses': tweet.user.statuses_count,\n",
        "        'user_listed': tweet.user.listed_count,\n",
        "        'user_location': tweet.user.location,\n",
        "        'user_description': tweet.user.description,\n",
        "        'tweet_date': tweet.created_at.date(),\n",
        "        'time_time': tweet.created_at.time(), \n",
        "        'retweet_count': tweet.retweet_count,\n",
        "        'tweet_source': tweet.source, \n",
        "        'verified': tweet.user.verified\n",
        "    }\n",
        "    data.append(tweet_data)\n",
        "\n",
        "# Create a DataFrame from the tweet data\n",
        "df1 = pd.DataFrame(data)\n",
        "\n",
        "# create column with the query\n",
        "\n",
        "df1['query'] = query1\n",
        "\n",
        "print(df1.shape)\n",
        "\n",
        "df = df.append(df1)"
      ],
      "metadata": {
        "id": "52nTupUdr_G_"
      },
      "execution_count": null,
      "outputs": []
    },
    {
      "cell_type": "code",
      "source": [
        "# Define search query\n",
        "query2 = 'matplotlib'\n",
        "\n",
        "tweets = []\n",
        "\n",
        "for i in range(int(max_tweets / tweets_per_request)):\n",
        "    if i == 0:\n",
        "        results = twitter.search_tweets(q=query2, lang='en', count=tweets_per_request, tweet_mode='extended')\n",
        "    else:\n",
        "        results = twitter.search_tweets(q=query2, lang='en', count=tweets_per_request, max_id=oldest_id - 1, tweet_mode='extended')\n",
        "    \n",
        "    if not results:\n",
        "        break\n",
        "\n",
        "    tweets.extend(results)\n",
        "    oldest_id = results[-1].id\n",
        "\n",
        "data = []\n",
        "\n",
        "# Extract tweet data and append to list\n",
        "for tweet in tweets:\n",
        "    if hasattr(tweet, 'retweeted_status'):\n",
        "        text = tweet.retweeted_status.full_text\n",
        "    else:\n",
        "        text = tweet.full_text\n",
        "    tweet_data = {\n",
        "        'user_name': tweet.user.name,\n",
        "        'tweet_text': text,\n",
        "        'user_followers': tweet.user.followers_count,\n",
        "        'user_friends': tweet.user.friends_count,\n",
        "        'user_statuses': tweet.user.statuses_count,\n",
        "        'user_listed': tweet.user.listed_count,\n",
        "        'user_location': tweet.user.location,\n",
        "        'user_description': tweet.user.description,\n",
        "        'tweet_date': tweet.created_at.date(),\n",
        "        'time_time': tweet.created_at.time(), \n",
        "        'retweet_count': tweet.retweet_count,\n",
        "        'tweet_source': tweet.source, \n",
        "        'verified': tweet.user.verified\n",
        "    }\n",
        "    data.append(tweet_data)\n",
        "\n",
        "# Create a DataFrame from the tweet data\n",
        "df2 = pd.DataFrame(data)\n",
        "\n",
        "# create column with the query\n",
        "\n",
        "df2['query'] = query2\n",
        "\n",
        "df = df.append(df2)"
      ],
      "metadata": {
        "id": "lBxHaUq9sAo2"
      },
      "execution_count": null,
      "outputs": []
    },
    {
      "cell_type": "code",
      "source": [
        "# Define search query\n",
        "query3 = 'tableau'\n",
        "\n",
        "tweets = []\n",
        "\n",
        "for i in range(int(max_tweets / tweets_per_request)):\n",
        "    if i == 0:\n",
        "        results = twitter.search_tweets(q=query3, lang='en', count=tweets_per_request, tweet_mode='extended')\n",
        "    else:\n",
        "        results = twitter.search_tweets(q=query3, lang='en', count=tweets_per_request, max_id=oldest_id - 1, tweet_mode='extended')\n",
        "    \n",
        "    if not results:\n",
        "        break\n",
        "\n",
        "    tweets.extend(results)\n",
        "    oldest_id = results[-1].id\n",
        "\n",
        "data = []\n",
        "\n",
        "# Extract tweet data and append to list\n",
        "for tweet in tweets:\n",
        "    if hasattr(tweet, 'retweeted_status'):\n",
        "        text = tweet.retweeted_status.full_text\n",
        "    else:\n",
        "        text = tweet.full_text\n",
        "    tweet_data = {\n",
        "        'user_name': tweet.user.name,\n",
        "        'tweet_text': text,\n",
        "        'user_followers': tweet.user.followers_count,\n",
        "        'user_friends': tweet.user.friends_count, #following\n",
        "        'user_statuses': tweet.user.statuses_count,\n",
        "        'user_listed': tweet.user.listed_count,\n",
        "        'user_location': tweet.user.location,\n",
        "        'user_description': tweet.user.description,\n",
        "        'tweet_date': tweet.created_at.date(),\n",
        "        'time_time': tweet.created_at.time(), \n",
        "        'retweet_count': tweet.retweet_count,\n",
        "        'tweet_source': tweet.source, \n",
        "        'verified': tweet.user.verified\n",
        "    }\n",
        "    data.append(tweet_data)\n",
        "\n",
        "# Create a DataFrame from the tweet data\n",
        "df3 = pd.DataFrame(data)\n",
        "\n",
        "# create column with the query\n",
        "\n",
        "df3['query'] = query3\n",
        "\n",
        "df = df.append(df3)"
      ],
      "metadata": {
        "id": "Sf1mdh3usD8a"
      },
      "execution_count": null,
      "outputs": []
    },
    {
      "cell_type": "code",
      "source": [
        "df.to_excel('/content/drive/MyDrive/University/DataViz/tweet.xlsx', index=False)"
      ],
      "metadata": {
        "id": "zZktBavXsHPU"
      },
      "execution_count": null,
      "outputs": []
    }
  ]
}